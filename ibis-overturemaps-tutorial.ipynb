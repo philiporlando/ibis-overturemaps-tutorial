{
 "cells": [
  {
   "cell_type": "code",
   "execution_count": 7,
   "metadata": {},
   "outputs": [],
   "source": [
    "import ibis\n",
    "from ibis import _\n",
    "import lonboard\n",
    "from lonboard.basemap import CartoBasemap # to choose color of basemap\n",
    "\n",
    "con = ibis.get_backend()"
   ]
  },
  {
   "cell_type": "code",
   "execution_count": 2,
   "metadata": {},
   "outputs": [
    {
     "data": {
      "application/vnd.jupyter.widget-view+json": {
       "model_id": "e80eecb91261493db18fb818a4eeed9a",
       "version_major": 2,
       "version_minor": 0
      },
      "text/plain": [
       "FloatProgress(value=0.0, layout=Layout(width='auto'), style=ProgressStyle(bar_color='black'))"
      ]
     },
     "metadata": {},
     "output_type": "display_data"
    }
   ],
   "source": [
    "# look into type infrastructure\n",
    "url = (\n",
    "    \"s3://overturemaps-us-west-2/release/2024-07-22.0/theme=base/type=infrastructure/*\"\n",
    ")\n",
    "t = con.read_parquet(url, table_name=\"infra-usa\")\n",
    "\n",
    "# filter for USA bounding box, subtype=\"power\", and selecting only few columns\n",
    "expr = t.filter(\n",
    "    _.bbox.xmin > -125.0,\n",
    "    _.bbox.ymin > 24.8,\n",
    "    _.bbox.xmax < -65.8,\n",
    "    _.bbox.ymax < 49.2,\n",
    "    _.subtype == \"power\",\n",
    ").select([\"names\", \"geometry\", \"bbox\", \"class\", \"sources\", \"source_tags\"])"
   ]
  },
  {
   "cell_type": "code",
   "execution_count": 4,
   "metadata": {},
   "outputs": [
    {
     "data": {
      "application/vnd.jupyter.widget-view+json": {
       "model_id": "d23f2807127641e7b212d7a9090bc140",
       "version_major": 2,
       "version_minor": 0
      },
      "text/plain": [
       "FloatProgress(value=0.0, layout=Layout(width='auto'), style=ProgressStyle(bar_color='black'))"
      ]
     },
     "metadata": {},
     "output_type": "display_data"
    }
   ],
   "source": [
    "con.to_parquet(expr, \"power-infra-usa.geoparquet\")"
   ]
  },
  {
   "cell_type": "code",
   "execution_count": 5,
   "metadata": {},
   "outputs": [],
   "source": [
    "ibis.options.interactive = True\n",
    "usa_power_infra = con.read_parquet(\"power-infra-usa.geoparquet\")\n",
    "usa_power_infra\n",
    "usa_power_infra = usa_power_infra.rename(infra_class=\"class\")\n",
    "usa_power_infra.infra_class.value_counts().order_by(\n",
    "    ibis.desc(\"infra_class_count\")\n",
    ").preview(max_rows=15)\n",
    "plants = usa_power_infra.filter(_.infra_class==\"plant\")\n",
    "power_lines = usa_power_infra.filter(_.infra_class==\"power_line\")\n",
    "minor_lines = usa_power_infra.filter(_.infra_class==\"minor_line\")"
   ]
  },
  {
   "cell_type": "code",
   "execution_count": 8,
   "metadata": {},
   "outputs": [
    {
     "name": "stderr",
     "output_type": "stream",
     "text": [
      "c:\\local\\projects\\ibis-overturemaps\\.venv\\Lib\\site-packages\\lonboard\\_geoarrow\\ops\\reproject.py:23: UserWarning: No CRS exists on data. If no data is shown on the map, double check that your CRS is WGS84.\n",
      "  warn(\n"
     ]
    },
    {
     "data": {
      "application/vnd.jupyter.widget-view+json": {
       "model_id": "b07784805b954116881b9c2d4e2af462",
       "version_major": 2,
       "version_minor": 1
      },
      "text/plain": [
       "Map(basemap_style=<CartoBasemap.Positron: 'https://basemaps.cartocdn.com/gl/positron-gl-style/style.json'>, la…"
      ]
     },
     "execution_count": 8,
     "metadata": {},
     "output_type": "execute_result"
    }
   ],
   "source": [
    "lonboard.viz(\n",
    "    plants,\n",
    "    scatterplot_kwargs={\"get_fill_color\": \"red\"},\n",
    "    polygon_kwargs={\"get_fill_color\": \"red\"},\n",
    "    map_kwargs={\n",
    "        \"basemap_style\": CartoBasemap.Positron,\n",
    "        \"view_state\": {\"longitude\": -100, \"latitude\": 36, \"zoom\": 3},\n",
    "    },\n",
    ")"
   ]
  },
  {
   "cell_type": "code",
   "execution_count": 9,
   "metadata": {},
   "outputs": [
    {
     "data": {
      "application/vnd.jupyter.widget-view+json": {
       "model_id": "427e74a37c484758912c364a944e66d3",
       "version_major": 2,
       "version_minor": 1
      },
      "text/plain": [
       "Map(basemap_style=<CartoBasemap.Positron: 'https://basemaps.cartocdn.com/gl/positron-gl-style/style.json'>, la…"
      ]
     },
     "execution_count": 9,
     "metadata": {},
     "output_type": "execute_result"
    }
   ],
   "source": [
    "plants_CA = plants.filter(\n",
    "    _.bbox.xmin.between(-118.6, -117.9), _.bbox.ymin.between(34.5, 35.3)\n",
    ").select(_.names.primary, _.geometry)\n",
    "\n",
    "lonboard.viz(\n",
    "    plants_CA,\n",
    "    scatterplot_kwargs={\"get_fill_color\": \"red\"},\n",
    "    polygon_kwargs={\"get_fill_color\": \"red\"},\n",
    "    map_kwargs={\n",
    "        \"basemap_style\": CartoBasemap.Positron,\n",
    "    },\n",
    ")"
   ]
  },
  {
   "cell_type": "code",
   "execution_count": 10,
   "metadata": {},
   "outputs": [
    {
     "data": {
      "application/vnd.jupyter.widget-view+json": {
       "model_id": "e7fb156dc8804e7db243854114a8315b",
       "version_major": 2,
       "version_minor": 1
      },
      "text/plain": [
       "Map(basemap_style=<CartoBasemap.DarkMatter: 'https://basemaps.cartocdn.com/gl/dark-matter-gl-style/style.json'…"
      ]
     },
     "execution_count": 10,
     "metadata": {},
     "output_type": "execute_result"
    }
   ],
   "source": [
    "lonboard.viz([minor_lines, power_lines])"
   ]
  }
 ],
 "metadata": {
  "kernelspec": {
   "display_name": ".venv",
   "language": "python",
   "name": "python3"
  },
  "language_info": {
   "codemirror_mode": {
    "name": "ipython",
    "version": 3
   },
   "file_extension": ".py",
   "mimetype": "text/x-python",
   "name": "python",
   "nbconvert_exporter": "python",
   "pygments_lexer": "ipython3",
   "version": "3.12.1"
  }
 },
 "nbformat": 4,
 "nbformat_minor": 2
}
